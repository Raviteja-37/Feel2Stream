{
 "cells": [
  {
   "cell_type": "code",
   "execution_count": 4,
   "id": "9e4d941d",
   "metadata": {},
   "outputs": [
    {
     "name": "stdout",
     "output_type": "stream",
     "text": [
      "✅ Model directory ready: /Users/ravitejakondamuri/Downloads/Feel2Stream/feel2stream/ml/text_emotion/models\n"
     ]
    }
   ],
   "source": [
    "import os\n",
    "import json\n",
    "import numpy as np\n",
    "from datasets import load_dataset\n",
    "\n",
    "# Local folder to save trained models\n",
    "model_dir = os.path.join(os.getcwd(), \"models\")\n",
    "os.makedirs(model_dir, exist_ok=True)\n",
    "print(\"✅ Model directory ready:\", model_dir)\n"
   ]
  },
  {
   "cell_type": "code",
   "execution_count": 5,
   "id": "9becdbb3",
   "metadata": {},
   "outputs": [
    {
     "name": "stderr",
     "output_type": "stream",
     "text": [
      "Generating train split: 100%|██████████| 43410/43410 [00:00<00:00, 1216556.66 examples/s]\n",
      "Generating validation split: 100%|██████████| 5426/5426 [00:00<00:00, 1328253.39 examples/s]\n",
      "Generating test split: 100%|██████████| 5427/5427 [00:00<00:00, 2055674.87 examples/s]"
     ]
    },
    {
     "name": "stdout",
     "output_type": "stream",
     "text": [
      "Number of labels: 28\n",
      "['admiration', 'amusement', 'anger', 'annoyance', 'approval', 'caring', 'confusion', 'curiosity', 'desire', 'disappointment', 'disapproval', 'disgust', 'embarrassment', 'excitement', 'fear', 'gratitude', 'grief', 'joy', 'love', 'nervousness', 'optimism', 'pride', 'realization', 'relief', 'remorse', 'sadness', 'surprise', 'neutral']\n",
      "Train samples: 43410\n",
      "Val samples: 5426\n",
      "Test samples: 5427\n"
     ]
    },
    {
     "name": "stderr",
     "output_type": "stream",
     "text": [
      "\n"
     ]
    },
    {
     "data": {
      "text/html": [
       "<div>\n",
       "<style scoped>\n",
       "    .dataframe tbody tr th:only-of-type {\n",
       "        vertical-align: middle;\n",
       "    }\n",
       "\n",
       "    .dataframe tbody tr th {\n",
       "        vertical-align: top;\n",
       "    }\n",
       "\n",
       "    .dataframe thead th {\n",
       "        text-align: right;\n",
       "    }\n",
       "</style>\n",
       "<table border=\"1\" class=\"dataframe\">\n",
       "  <thead>\n",
       "    <tr style=\"text-align: right;\">\n",
       "      <th></th>\n",
       "      <th>text</th>\n",
       "      <th>labels</th>\n",
       "      <th>id</th>\n",
       "    </tr>\n",
       "  </thead>\n",
       "  <tbody>\n",
       "    <tr>\n",
       "      <th>0</th>\n",
       "      <td>My favourite food is anything I didn't have to...</td>\n",
       "      <td>[27]</td>\n",
       "      <td>eebbqej</td>\n",
       "    </tr>\n",
       "    <tr>\n",
       "      <th>1</th>\n",
       "      <td>Now if he does off himself, everyone will thin...</td>\n",
       "      <td>[27]</td>\n",
       "      <td>ed00q6i</td>\n",
       "    </tr>\n",
       "    <tr>\n",
       "      <th>2</th>\n",
       "      <td>WHY THE FUCK IS BAYLESS ISOING</td>\n",
       "      <td>[2]</td>\n",
       "      <td>eezlygj</td>\n",
       "    </tr>\n",
       "    <tr>\n",
       "      <th>3</th>\n",
       "      <td>To make her feel threatened</td>\n",
       "      <td>[14]</td>\n",
       "      <td>ed7ypvh</td>\n",
       "    </tr>\n",
       "    <tr>\n",
       "      <th>4</th>\n",
       "      <td>Dirty Southern Wankers</td>\n",
       "      <td>[3]</td>\n",
       "      <td>ed0bdzj</td>\n",
       "    </tr>\n",
       "  </tbody>\n",
       "</table>\n",
       "</div>"
      ],
      "text/plain": [
       "                                                text labels       id\n",
       "0  My favourite food is anything I didn't have to...   [27]  eebbqej\n",
       "1  Now if he does off himself, everyone will thin...   [27]  ed00q6i\n",
       "2                     WHY THE FUCK IS BAYLESS ISOING    [2]  eezlygj\n",
       "3                        To make her feel threatened   [14]  ed7ypvh\n",
       "4                             Dirty Southern Wankers    [3]  ed0bdzj"
      ]
     },
     "execution_count": 5,
     "metadata": {},
     "output_type": "execute_result"
    }
   ],
   "source": [
    "# Load GoEmotions dataset (train/validation/test)\n",
    "dataset = load_dataset(\"go_emotions\")\n",
    "\n",
    "# Show number of labels\n",
    "label_names = dataset['train'].features['labels'].feature.names\n",
    "print(\"Number of labels:\", len(label_names))\n",
    "print(label_names)\n",
    "\n",
    "# Convert to pandas for easy processing\n",
    "df_train = dataset['train'].to_pandas()\n",
    "df_val   = dataset['validation'].to_pandas()\n",
    "df_test  = dataset['test'].to_pandas()\n",
    "\n",
    "print(\"Train samples:\", len(df_train))\n",
    "print(\"Val samples:\", len(df_val))\n",
    "print(\"Test samples:\", len(df_test))\n",
    "df_train.head()\n"
   ]
  },
  {
   "cell_type": "code",
   "execution_count": 6,
   "id": "b45e9be3",
   "metadata": {},
   "outputs": [
    {
     "name": "stdout",
     "output_type": "stream",
     "text": [
      "Y_train shape: (43410, 28)\n"
     ]
    }
   ],
   "source": [
    "from sklearn.preprocessing import MultiLabelBinarizer\n",
    "\n",
    "mlb = MultiLabelBinarizer(classes=list(range(len(label_names))))\n",
    "Y_train = mlb.fit_transform(df_train['labels'])\n",
    "Y_val   = mlb.transform(df_val['labels'])\n",
    "Y_test  = mlb.transform(df_test['labels'])\n",
    "\n",
    "print(\"Y_train shape:\", Y_train.shape)\n"
   ]
  },
  {
   "cell_type": "code",
   "execution_count": 7,
   "id": "3b964aab",
   "metadata": {},
   "outputs": [
    {
     "name": "stdout",
     "output_type": "stream",
     "text": [
      "X_train shape: (43410, 20000)\n"
     ]
    }
   ],
   "source": [
    "from sklearn.feature_extraction.text import TfidfVectorizer\n",
    "\n",
    "vectorizer = TfidfVectorizer(max_features=20000, ngram_range=(1,2))\n",
    "X_train = vectorizer.fit_transform(df_train['text'].astype(str))\n",
    "X_val   = vectorizer.transform(df_val['text'].astype(str))\n",
    "X_test  = vectorizer.transform(df_test['text'].astype(str))\n",
    "\n",
    "print(\"X_train shape:\", X_train.shape)\n"
   ]
  },
  {
   "cell_type": "code",
   "execution_count": 8,
   "id": "fa996fad",
   "metadata": {},
   "outputs": [
    {
     "name": "stdout",
     "output_type": "stream",
     "text": [
      "Training time (s): 6.1\n"
     ]
    }
   ],
   "source": [
    "from sklearn.linear_model import LogisticRegression\n",
    "from sklearn.multiclass import OneVsRestClassifier\n",
    "import time\n",
    "\n",
    "clf = OneVsRestClassifier(LogisticRegression(max_iter=1000, solver='saga'))\n",
    "\n",
    "t0 = time.time()\n",
    "clf.fit(X_train, Y_train)\n",
    "print(\"Training time (s):\", round(time.time() - t0, 1))\n"
   ]
  },
  {
   "cell_type": "code",
   "execution_count": 9,
   "id": "6a627c17",
   "metadata": {},
   "outputs": [
    {
     "name": "stdout",
     "output_type": "stream",
     "text": [
      "Micro F1: 0.3992194674012856\n",
      "Macro F1: 0.20972689273416487\n",
      "                precision    recall  f1-score   support\n",
      "\n",
      "    admiration       0.75      0.30      0.43       504\n",
      "     amusement       0.82      0.40      0.54       264\n",
      "         anger       0.67      0.09      0.16       198\n",
      "     annoyance       0.75      0.01      0.02       320\n",
      "      approval       0.70      0.05      0.10       351\n",
      "        caring       0.83      0.07      0.14       135\n",
      "     confusion       0.36      0.03      0.05       153\n",
      "     curiosity       0.55      0.08      0.14       284\n",
      "        desire       0.90      0.11      0.19        83\n",
      "disappointment       1.00      0.01      0.01       151\n",
      "   disapproval       0.53      0.04      0.07       267\n",
      "       disgust       0.81      0.14      0.24       123\n",
      " embarrassment       0.00      0.00      0.00        37\n",
      "    excitement       0.69      0.11      0.18       103\n",
      "          fear       0.86      0.08      0.14        78\n",
      "     gratitude       0.97      0.80      0.88       352\n",
      "         grief       0.00      0.00      0.00         6\n",
      "           joy       0.72      0.16      0.26       161\n",
      "          love       0.82      0.55      0.66       238\n",
      "   nervousness       0.00      0.00      0.00        23\n",
      "      optimism       0.81      0.25      0.39       186\n",
      "         pride       0.00      0.00      0.00        16\n",
      "   realization       1.00      0.01      0.01       145\n",
      "        relief       0.00      0.00      0.00        11\n",
      "       remorse       0.65      0.23      0.34        56\n",
      "       sadness       0.85      0.14      0.24       156\n",
      "      surprise       0.58      0.08      0.14       141\n",
      "       neutral       0.66      0.46      0.54      1787\n",
      "\n",
      "     micro avg       0.73      0.27      0.40      6329\n",
      "     macro avg       0.62      0.15      0.21      6329\n",
      "  weighted avg       0.71      0.27      0.35      6329\n",
      "   samples avg       0.31      0.29      0.30      6329\n",
      "\n"
     ]
    }
   ],
   "source": [
    "from sklearn.metrics import f1_score, classification_report\n",
    "\n",
    "Y_pred = clf.predict(X_test)\n",
    "\n",
    "print(\"Micro F1:\", f1_score(Y_test, Y_pred, average='micro'))\n",
    "print(\"Macro F1:\", f1_score(Y_test, Y_pred, average='macro'))\n",
    "\n",
    "# Per-class report\n",
    "report = classification_report(Y_test, Y_pred, target_names=label_names, zero_division=0)\n",
    "print(report)\n"
   ]
  },
  {
   "cell_type": "code",
   "execution_count": 10,
   "id": "94ce701a",
   "metadata": {},
   "outputs": [
    {
     "name": "stdout",
     "output_type": "stream",
     "text": [
      "✅ Saved files: ['text_labels.json', 'text_vectorizer.joblib', 'text_clf.joblib']\n"
     ]
    }
   ],
   "source": [
    "import joblib\n",
    "\n",
    "# Save vectorizer, classifier, and label names locally\n",
    "joblib.dump(vectorizer, os.path.join(model_dir, \"text_vectorizer.joblib\"))\n",
    "joblib.dump(clf, os.path.join(model_dir, \"text_clf.joblib\"))\n",
    "with open(os.path.join(model_dir, \"text_labels.json\"), \"w\") as f:\n",
    "    json.dump(label_names, f)\n",
    "\n",
    "print(\"✅ Saved files:\", os.listdir(model_dir))\n"
   ]
  },
  {
   "cell_type": "code",
   "execution_count": 11,
   "id": "2257475b",
   "metadata": {},
   "outputs": [
    {
     "name": "stdout",
     "output_type": "stream",
     "text": [
      "{'label': 'joy', 'confidence': 0.7769911128516354, 'probs_per_label': array([0.04651455, 0.01063979, 0.01475206, 0.01685379, 0.03594727,\n",
      "       0.01555538, 0.02102665, 0.02922412, 0.00756872, 0.02575382,\n",
      "       0.01002369, 0.00996529, 0.00646541, 0.60998882, 0.01338255,\n",
      "       0.03608113, 0.00237585, 0.77699111, 0.02515943, 0.00755628,\n",
      "       0.01126097, 0.0041273 , 0.01528611, 0.00574413, 0.00864157,\n",
      "       0.03136969, 0.01318175, 0.02835595])}\n",
      "{'label': 'fear', 'confidence': 0.7713924866210388, 'probs_per_label': array([0.02632959, 0.01063469, 0.01942455, 0.03065062, 0.02886474,\n",
      "       0.03842683, 0.01339707, 0.00739136, 0.01248241, 0.01807423,\n",
      "       0.01978399, 0.01952902, 0.01005187, 0.01920673, 0.77139249,\n",
      "       0.00891942, 0.00180421, 0.03140519, 0.01076271, 0.13701752,\n",
      "       0.01261661, 0.00227246, 0.0227321 , 0.00370255, 0.00661075,\n",
      "       0.02469692, 0.01008147, 0.07945032])}\n"
     ]
    }
   ],
   "source": [
    "def predict_single(text):\n",
    "    vec = vectorizer.transform([text])\n",
    "    probs = clf.predict_proba(vec)  # shape (1, n_labels)\n",
    "    top_idx = probs.argmax(axis=1)[0]\n",
    "    top_label = label_names[top_idx]\n",
    "    top_conf = float(probs.max())\n",
    "    return {\"label\": top_label, \"confidence\": top_conf, \"probs_per_label\": probs.reshape(-1)}\n",
    "\n",
    "# Test\n",
    "print(predict_single(\"I am so happy and excited about this!\"))\n",
    "print(predict_single(\"I'm feeling nervous and scared.\"))\n"
   ]
  }
 ],
 "metadata": {
  "kernelspec": {
   "display_name": "Python 3",
   "language": "python",
   "name": "python3"
  },
  "language_info": {
   "codemirror_mode": {
    "name": "ipython",
    "version": 3
   },
   "file_extension": ".py",
   "mimetype": "text/x-python",
   "name": "python",
   "nbconvert_exporter": "python",
   "pygments_lexer": "ipython3",
   "version": "3.9.6"
  }
 },
 "nbformat": 4,
 "nbformat_minor": 5
}
